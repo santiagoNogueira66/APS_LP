{
  "cells": [
    {
      "cell_type": "markdown",
      "metadata": {
        "id": "view-in-github",
        "colab_type": "text"
      },
      "source": [
        "<a href=\"https://colab.research.google.com/github/santiagoNogueira66/APS_LP/blob/main/Ol%C3%A1%2C_este_%C3%A9_o_Colaboratory.ipynb\" target=\"_parent\"><img src=\"https://colab.research.google.com/assets/colab-badge.svg\" alt=\"Open In Colab\"/></a>"
      ]
    },
    {
      "cell_type": "code",
      "source": [
        "import hashlib\n",
        "from cryptography.hazmat.primitives.ciphers import Cipher, algorithms, modes\n",
        "from cryptography.hazmat.primitives import padding\n",
        "import os"
      ],
      "metadata": {
        "id": "QFp-n6LdVICQ"
      },
      "execution_count": 14,
      "outputs": []
    },
    {
      "cell_type": "code",
      "source": [
        "tentativas_max = 3\n",
        "tentativa_atual = 0\n",
        "users = {\n",
        "    \"santiago\": \"063688\",\n",
        "    \"kauan\": \"987654\"\n",
        "}\n",
        "\n",
        "while(tentativa_atual < tentativas_max):\n",
        "  user = input(\"Digite o usuário: \").lower().strip()\n",
        "\n",
        "  if user in users and users[user] == input(\"Digite a senha: \").strip():\n",
        "    print(\"Acesso autorizado\")\n",
        "    msgm = input(\"digite a sua mensagem: \")\n",
        "    access = True\n",
        "    break\n",
        "  else:\n",
        "    tentativa_atual += 1\n",
        "    restante = tentativas_max - tentativa_atual\n",
        "\n",
        "    if restante > 0:\n",
        "      print(\"usuario ou senha incorreta, tentativas restantes \",restante)\n",
        "    else:\n",
        "      print(\"Numero de tentativas excedidas. Acesso bloqueado!\")\n",
        "      break"
      ],
      "metadata": {
        "colab": {
          "base_uri": "https://localhost:8080/"
        },
        "id": "ZS7s1s--Z88S",
        "outputId": "0ad822d7-e7bc-417a-e987-9da81641f1a1"
      },
      "execution_count": 19,
      "outputs": [
        {
          "name": "stdout",
          "output_type": "stream",
          "text": [
            "Digite o usuário: santiago\n",
            "Digite a senha: 063688\n",
            "Acesso autorizado\n",
            "digite a sua mensagem: santiago nogueira \n"
          ]
        }
      ]
    },
    {
      "cell_type": "code",
      "source": [
        "from cryptography.hazmat.primitives import ciphers\n",
        "#preparando o hash\n",
        "\n",
        "hash_object = hashlib.sha256()\n",
        "hash_object.update(msgm.encode('utf-8'))\n",
        "hash_hex = hash_object.hexdigest()\n",
        "print(hash_hex)\n",
        "#preparando a criptografia\n",
        "key = os.urandom(32)\n",
        "iv = os.urandom(16)\n",
        "cipher = Cipher(algorithms.AES(key),modes.CBC(iv))\n",
        "msgm_bytes = msgm.encode('utf-8')\n",
        "padder = padding.PKCS7(128).padder()\n",
        "msgm_bytes_padded = padder.update(msgm_bytes)+padder.finalize()\n",
        "encryptor = cipher.encryptor()\n",
        "ciphertext = encryptor.update(msgm_bytes_padded)+encryptor.finalize()\n",
        "print(ciphertext)"
      ],
      "metadata": {
        "colab": {
          "base_uri": "https://localhost:8080/"
        },
        "id": "T0KJ9L2FVjXG",
        "outputId": "faeff780-d043-498e-f6a7-cd104632c4a9"
      },
      "execution_count": 20,
      "outputs": [
        {
          "output_type": "stream",
          "name": "stdout",
          "text": [
            "a198c0775a4910e4f24308535b6cec7b0c811c31e354d53c8f87991517397649\n",
            "b'\\x18_\\x99\\x8c\\xb01\\x979\\x1e\\xd6hB\\xa4\\xcb\\xb3\\xe2\\xeaOw\\x16\\xf6k\\x02J5L\\x85~dt\\xa2\\xd5'\n"
          ]
        }
      ]
    },
    {
      "cell_type": "code",
      "source": [],
      "metadata": {
        "id": "_t_xnFhVdOdU"
      },
      "execution_count": null,
      "outputs": []
    }
  ],
  "metadata": {
    "colab": {
      "name": "Olá, este é o Colaboratory",
      "toc_visible": true,
      "provenance": [],
      "include_colab_link": true
    },
    "kernelspec": {
      "display_name": "Python 3",
      "name": "python3"
    }
  },
  "nbformat": 4,
  "nbformat_minor": 0
}